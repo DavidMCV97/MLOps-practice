{
 "cells": [
  {
   "cell_type": "markdown",
   "id": "0",
   "metadata": {},
   "source": [
    "# Fundamentals of zenML"
   ]
  },
  {
   "cell_type": "markdown",
   "id": "1",
   "metadata": {},
   "source": [
    "ZenML is one of the simplest and more powrful MLOps packages. \n",
    "In this notebook I will do a basic zenML pipeline to get familiar with zenML operation. \n",
    "This notebook is inspired by freeCodeCamp [MLOps Course](https://www.youtube.com/watch?v=-dJPoLm_gtE)."
   ]
  },
  {
   "cell_type": "markdown",
   "id": "2",
   "metadata": {},
   "source": [
    "One of the adventages of zenML is that we can versionize and track our history of models and data.\n",
    "To do so, we need to create a .zen file.\n",
    "To create it, go to the console and write **zenml init**."
   ]
  },
  {
   "cell_type": "code",
   "execution_count": null,
   "id": "3",
   "metadata": {},
   "outputs": [],
   "source": [
    "# modules\n",
    "\n",
    "# first we check the .zen file exists\n",
    "from pathlib import Path\n",
    "p = Path('D:/Projects/chambas/MLOps-practice/fundamentals/.zen')\n",
    "\n",
    "if p.exists():\n",
    "    from zenml import step\n",
    "    from typing_extensions import Annotated\n",
    "    import numpy as np\n",
    "    from typing import Tuple\n",
    "    from sklearn.datasets import load_digits\n",
    "    from sklearn.base import ClassifierMixin\n",
    "    from sklearn.svm import SVC\n",
    "    from sklearn.model_selection import train_test_split\n",
    "    from zenml import pipeline\n",
    "    from zenml.environment import Environment\n",
    "    print('modules imported')\n",
    "else: print('Error: .zen file does not exist. Create it with zenml init command in console.')"
   ]
  },
  {
   "cell_type": "markdown",
   "id": "4",
   "metadata": {},
   "source": [
    "ZenML works with **steps**, wich are the parts of our pipeline. \n",
    "Technically, steps are reusable units of computation."
   ]
  },
  {
   "cell_type": "code",
   "execution_count": null,
   "id": "5",
   "metadata": {},
   "outputs": [],
   "source": [
    "# our first step will be importing the data\n",
    "# the step functions need input/output specifications for a better workflow\n",
    "@step\n",
    "def importer() -> Tuple[Annotated[np.ndarray, 'X_train'],\n",
    "                        Annotated[np.ndarray, 'X_test'],\n",
    "                        Annotated[np.ndarray, 'y_train'],\n",
    "                        Annotated[np.ndarray, 'y_test']]:\n",
    "    '''\n",
    "    Documentation:\n",
    "    Train & test a SVM classifier on digits with sklearn\n",
    "    '''\n",
    "    # digits is a dataset incluided in sklearn that contains 1,797 8x8 images of numbers.\n",
    "    digits = load_digits()\n",
    "\n",
    "    # access each image and 'unfold' it in a single row.\n",
    "    data = digits.images.reshape((len(digits.images), -1)) # the -1 argument means automatic value\n",
    "\n",
    "    # train test split\n",
    "    X_train, X_test, y_train, y_test = train_test_split(data,\n",
    "                                                        digits.target,\n",
    "                                                        test_size=0.2,\n",
    "                                                        shuffle=False)\n",
    "\n",
    "    # return objects congruent to specification\n",
    "    return X_train, X_test, y_train, y_test"
   ]
  },
  {
   "cell_type": "code",
   "execution_count": null,
   "id": "6",
   "metadata": {},
   "outputs": [],
   "source": [
    "# our second step will be training\n",
    "\n",
    "@step\n",
    "def svc_trainer(X_train:np.ndarray,y_train:np.ndarray) -> ClassifierMixin:\n",
    "    '''\n",
    "    Train a sklearn SVC classifier\n",
    "    '''\n",
    "    model = SVC(gamma=0.001) # gamma is a hyperparameter\n",
    "    model.fit(X_train, y_train) # fit model with training data\n",
    "    return model"
   ]
  },
  {
   "cell_type": "code",
   "execution_count": null,
   "id": "7",
   "metadata": {},
   "outputs": [],
   "source": [
    "# our last step will be evaluation\n",
    "@step\n",
    "def evaluator(X_test:np.ndarray,\n",
    "              y_test:np.ndarray,\n",
    "              model: ClassifierMixin) -> float:\n",
    "    '''\n",
    "    Calculate acurracy of model in test set\n",
    "    '''\n",
    "\n",
    "    test_acc = model.score(X_test, y_test)\n",
    "    print(f'Test_acurracy: {test_acc}')\n",
    "    return test_acc"
   ]
  },
  {
   "cell_type": "code",
   "execution_count": null,
   "id": "8",
   "metadata": {},
   "outputs": [],
   "source": [
    "# now lets join every step in a pipeline\n",
    "\n",
    "@pipeline\n",
    "def digits_pipeline():\n",
    "    '''\n",
    "    Pipeline for digit image detection using a SVM classifier with sklearn.\n",
    "    '''\n",
    "    X_train, X_test, y_train, y_test = importer()\n",
    "    model = svc_trainer(X_train, y_train)\n",
    "    evaluator(X_test, y_test, model)"
   ]
  },
  {
   "cell_type": "markdown",
   "id": "9",
   "metadata": {},
   "source": [
    "To execute our pipeline we simply execute our pipeline function."
   ]
  },
  {
   "cell_type": "code",
   "execution_count": null,
   "id": "10",
   "metadata": {},
   "outputs": [],
   "source": [
    "digits_svc_pipeline = digits_pipeline()"
   ]
  },
  {
   "cell_type": "markdown",
   "id": "11",
   "metadata": {},
   "source": [
    "We can visualize a diagram of our pipeline with this code."
   ]
  },
  {
   "cell_type": "code",
   "execution_count": null,
   "id": "12",
   "metadata": {},
   "outputs": [],
   "source": [
    "def start_zenml_dashboard(port=8237):\n",
    "    !zenml up --port {port} --blocking\n",
    "\n",
    "print('go to http://localhost:8237')\n",
    "start_zenml_dashboard()"
   ]
  },
  {
   "cell_type": "code",
   "execution_count": null,
   "id": "13",
   "metadata": {},
   "outputs": [],
   "source": []
  }
 ],
 "metadata": {
  "kernelspec": {
   "display_name": "Python 3 (ipykernel)",
   "language": "python",
   "name": "python3"
  },
  "language_info": {
   "codemirror_mode": {
    "name": "ipython",
    "version": 3
   },
   "file_extension": ".py",
   "mimetype": "text/x-python",
   "name": "python",
   "nbconvert_exporter": "python",
   "pygments_lexer": "ipython3",
   "version": "3.12.0"
  }
 },
 "nbformat": 4,
 "nbformat_minor": 5
}
